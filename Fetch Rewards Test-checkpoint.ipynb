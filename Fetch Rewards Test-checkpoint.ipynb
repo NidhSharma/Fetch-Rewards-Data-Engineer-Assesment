{
 "cells": [
  {
   "cell_type": "markdown",
   "metadata": {},
   "source": [
    "# Fetch Rewards Coding Exercise - Data Engineer"
   ]
  },
  {
   "cell_type": "markdown",
   "metadata": {},
   "source": [
    "## Similarity between two texts"
   ]
  },
  {
   "cell_type": "code",
   "execution_count": 2,
   "metadata": {},
   "outputs": [],
   "source": [
    "s1 = \"The easiest way to earn points with Fetch Rewards is to just shop for the products you already love. If you have any participating brands on your receipt, you'll get points based on the cost of the products. You don't need to clip any coupons or scan individual barcodes. Just scan each grocery receipt after you shop and we'll find the savings for you.\"\n",
    "\n",
    "s2 = \"The easiest way to earn points with Fetch Rewards is to just shop for the items you already buy. If you have any eligible brands on your receipt, you will get points based on the total cost of the products. You do not need to cut out any coupons or scan individual UPCs. Just scan your receipt after you check out and we will find the savings for you.\"\n",
    "\n",
    "s3 = \"We are always looking for opportunities for you to earn more points, which is why we also give you a selection of Special Offers. These Special Offers are opportunities to earn bonus points on top of the regular points you earn every time you purchase a participating brand. No need to pre-select these offers, we'll give you the points whether or not you knew about the offer. We just think it is easier that way.\""
   ]
  },
  {
   "attachments": {
    "image.png": {
     "image/png": "[encoded data removed]"
    }
   },
   "cell_type": "markdown",
   "metadata": {},
   "source": [
    "### I used cosine similarity metric to determine how similar two different strings are.\n",
    "It is determined by calculating the dot product of 2 vectors divided by the magnitude of both the vetors.\n",
    "![image.png](attachment:image.png)"
   ]
  },
  {
   "cell_type": "markdown",
   "metadata": {},
   "source": [
    "#### Do you count punctuation or only words? \n",
    "Taken into considerations only the words without special characters and stop_words<br>\n",
    "#### Which words should matter in the similarity comparison?\n",
    "Words that have been repeated in both the strings are the ones that matter and used to calculate similarity<br> \n",
    "#### What metric do you use to assign a numerical value to the similarity?\n",
    "Used Cosine similarity metric to assign a numerical value<br>\n",
    "#### What type of data structures should be used? (Hint: Dictionaries and lists are particularly helpful data structures that - can be leveraged to calculate the similarity of two pieces of text.)\n",
    "Used both dictionaries and lists for this comparison.<br>"
   ]
  },
  {
   "cell_type": "code",
   "execution_count": 14,
   "metadata": {
    "scrolled": true
   },
   "outputs": [
    {
     "name": "stdout",
     "output_type": "stream",
     "text": [
      "Cosine similarity is: 25.852710248580124\n",
      "Score:  0\n"
     ]
    }
   ],
   "source": [
    "stop_words = ['the', 'on','of', 'any','your','to', 'with', 'is', 'for', 'you', 'are', 'this', 'if', 'have', 'after', 'and','or','just']\n",
    "\n",
    "def get_similarity(sample1, sample2):\n",
    "    \n",
    "    flag = 0\n",
    "    \n",
    "    # Converting the strings to vectors using the below function\n",
    "    text1 = to_vector(sample1)\n",
    "    text2 = to_vector(sample2)\n",
    "    \n",
    "    # Filtering only the words repeated in both the string and saving in intersection variable\n",
    "    intersection = set(text1.keys()) & set(text2.keys())\n",
    "    \n",
    "    # Calculating the summation of dot product for both the vectors \n",
    "    numerator = sum([text1[word] * text2[word] for word in intersection])\n",
    "    \n",
    "    # Calculating the denominator of the formula, that is, magnitude of vectors\n",
    "    sum1 = sum([text1[key] ** 2 for key in list(text1.keys())])    \n",
    "    sum2 = sum([text2[key] ** 2 for key in list(text2.keys())])\n",
    "    \n",
    "    # Calculating the square root of vectors for the denominator\n",
    "    denominator = (sum1**(1/2)) * (sum2**(1/2))\n",
    "    \n",
    "    # Calculating the cosine similarity\n",
    "    cosine_similarity = (float(numerator)/denominator) * 100\n",
    "    print('Cosine similarity is:', cosine_similarity)\n",
    "    \n",
    "    if cosine_similarity > 60:\n",
    "        flag = 1\n",
    "\n",
    "    return flag\n",
    "\n",
    "\n",
    "def to_vector(text):\n",
    "    sentence = []\n",
    "    dict_word ={}\n",
    "    \n",
    "    # Removing special characyers and stop words from the string\n",
    "    sen1 = \"\".join(i for i in text if i not in ('!','.',',',':')).lower().split(\" \")\n",
    "    \n",
    "    for word in sen1:\n",
    "        if word not in stop_words:\n",
    "            sentence.append(word)\n",
    "            \n",
    "    # Creating a dictionary with words as the key and number of occurences as value\n",
    "    for word in sentence:\n",
    "        if word in dict_word:\n",
    "            dict_word[word] += 1\n",
    "        else:\n",
    "            dict_word[word] = 1\n",
    "    return dict_word\n",
    "\n",
    "print(\"Score: \",get_similarity(s3, s2))"
   ]
  },
  {
   "cell_type": "code",
   "execution_count": null,
   "metadata": {},
   "outputs": [],
   "source": []
  }
 ],
 "metadata": {
  "kernelspec": {
   "display_name": "Python 3",
   "language": "python",
   "name": "python3"
  },
  "language_info": {
   "codemirror_mode": {
    "name": "ipython",
    "version": 3
   },
   "file_extension": ".py",
   "mimetype": "text/x-python",
   "name": "python",
   "nbconvert_exporter": "python",
   "pygments_lexer": "ipython3",
   "version": "3.7.4"
  }
 },
 "nbformat": 4,
 "nbformat_minor": 2
}
